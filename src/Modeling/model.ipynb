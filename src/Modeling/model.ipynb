{
 "cells": [
  {
   "cell_type": "code",
   "execution_count": 15,
   "id": "ff374d96",
   "metadata": {},
   "outputs": [],
   "source": [
    "from xgboost import XGBClassifier\n",
    "import pandas as pd\n",
    "from sklearn.model_selection import train_test_split"
   ]
  },
  {
   "cell_type": "code",
   "execution_count": 16,
   "id": "b76a70ca",
   "metadata": {},
   "outputs": [
    {
     "data": {
      "text/html": [
       "<div>\n",
       "<style scoped>\n",
       "    .dataframe tbody tr th:only-of-type {\n",
       "        vertical-align: middle;\n",
       "    }\n",
       "\n",
       "    .dataframe tbody tr th {\n",
       "        vertical-align: top;\n",
       "    }\n",
       "\n",
       "    .dataframe thead th {\n",
       "        text-align: right;\n",
       "    }\n",
       "</style>\n",
       "<table border=\"1\" class=\"dataframe\">\n",
       "  <thead>\n",
       "    <tr style=\"text-align: right;\">\n",
       "      <th></th>\n",
       "      <th>0</th>\n",
       "      <th>1</th>\n",
       "      <th>2</th>\n",
       "      <th>3</th>\n",
       "      <th>4</th>\n",
       "      <th>5</th>\n",
       "      <th>6</th>\n",
       "      <th>7</th>\n",
       "      <th>8</th>\n",
       "      <th>9</th>\n",
       "      <th>...</th>\n",
       "      <th>192</th>\n",
       "      <th>193</th>\n",
       "      <th>194</th>\n",
       "      <th>195</th>\n",
       "      <th>196</th>\n",
       "      <th>197</th>\n",
       "      <th>198</th>\n",
       "      <th>199</th>\n",
       "      <th>200</th>\n",
       "      <th>label</th>\n",
       "    </tr>\n",
       "  </thead>\n",
       "  <tbody>\n",
       "    <tr>\n",
       "      <th>0</th>\n",
       "      <td>-378.381226</td>\n",
       "      <td>76.678459</td>\n",
       "      <td>23.239784</td>\n",
       "      <td>13.843393</td>\n",
       "      <td>-5.965930</td>\n",
       "      <td>-34.010609</td>\n",
       "      <td>-32.301823</td>\n",
       "      <td>-12.570757</td>\n",
       "      <td>-12.027764</td>\n",
       "      <td>-16.687765</td>\n",
       "      <td>...</td>\n",
       "      <td>0.157032</td>\n",
       "      <td>0.271695</td>\n",
       "      <td>0.199551</td>\n",
       "      <td>0.092379</td>\n",
       "      <td>0.077370</td>\n",
       "      <td>0.012950</td>\n",
       "      <td>0.070789</td>\n",
       "      <td>16.968049</td>\n",
       "      <td>0.224802</td>\n",
       "      <td>1</td>\n",
       "    </tr>\n",
       "    <tr>\n",
       "      <th>1</th>\n",
       "      <td>-380.143799</td>\n",
       "      <td>100.597214</td>\n",
       "      <td>15.078894</td>\n",
       "      <td>2.440198</td>\n",
       "      <td>-10.985611</td>\n",
       "      <td>-30.110996</td>\n",
       "      <td>-30.983414</td>\n",
       "      <td>-17.078562</td>\n",
       "      <td>-17.298779</td>\n",
       "      <td>-18.734821</td>\n",
       "      <td>...</td>\n",
       "      <td>0.138701</td>\n",
       "      <td>0.236866</td>\n",
       "      <td>0.206389</td>\n",
       "      <td>0.088181</td>\n",
       "      <td>0.075871</td>\n",
       "      <td>0.011050</td>\n",
       "      <td>0.108802</td>\n",
       "      <td>16.039196</td>\n",
       "      <td>0.145663</td>\n",
       "      <td>1</td>\n",
       "    </tr>\n",
       "    <tr>\n",
       "      <th>2</th>\n",
       "      <td>-304.669098</td>\n",
       "      <td>118.192703</td>\n",
       "      <td>2.042840</td>\n",
       "      <td>15.504647</td>\n",
       "      <td>-7.542607</td>\n",
       "      <td>-33.852650</td>\n",
       "      <td>-39.650818</td>\n",
       "      <td>-19.708704</td>\n",
       "      <td>-5.323081</td>\n",
       "      <td>-8.056992</td>\n",
       "      <td>...</td>\n",
       "      <td>0.216409</td>\n",
       "      <td>0.254743</td>\n",
       "      <td>0.280462</td>\n",
       "      <td>0.094490</td>\n",
       "      <td>0.092035</td>\n",
       "      <td>0.007948</td>\n",
       "      <td>0.058204</td>\n",
       "      <td>19.400424</td>\n",
       "      <td>0.093365</td>\n",
       "      <td>1</td>\n",
       "    </tr>\n",
       "    <tr>\n",
       "      <th>3</th>\n",
       "      <td>-308.821411</td>\n",
       "      <td>89.359093</td>\n",
       "      <td>10.470924</td>\n",
       "      <td>28.855902</td>\n",
       "      <td>-3.093584</td>\n",
       "      <td>-32.251301</td>\n",
       "      <td>-31.907427</td>\n",
       "      <td>-18.246683</td>\n",
       "      <td>-12.992827</td>\n",
       "      <td>-23.487600</td>\n",
       "      <td>...</td>\n",
       "      <td>0.116543</td>\n",
       "      <td>0.299894</td>\n",
       "      <td>0.209227</td>\n",
       "      <td>0.093146</td>\n",
       "      <td>0.112789</td>\n",
       "      <td>0.012746</td>\n",
       "      <td>0.069317</td>\n",
       "      <td>19.505548</td>\n",
       "      <td>0.107881</td>\n",
       "      <td>1</td>\n",
       "    </tr>\n",
       "    <tr>\n",
       "      <th>4</th>\n",
       "      <td>-340.816803</td>\n",
       "      <td>59.974323</td>\n",
       "      <td>12.205260</td>\n",
       "      <td>18.845779</td>\n",
       "      <td>-9.285711</td>\n",
       "      <td>-23.310375</td>\n",
       "      <td>-38.347187</td>\n",
       "      <td>-21.094282</td>\n",
       "      <td>-11.288987</td>\n",
       "      <td>-16.105379</td>\n",
       "      <td>...</td>\n",
       "      <td>0.151425</td>\n",
       "      <td>0.230372</td>\n",
       "      <td>0.215532</td>\n",
       "      <td>0.085833</td>\n",
       "      <td>0.078073</td>\n",
       "      <td>0.012030</td>\n",
       "      <td>0.095974</td>\n",
       "      <td>15.334975</td>\n",
       "      <td>0.181497</td>\n",
       "      <td>1</td>\n",
       "    </tr>\n",
       "  </tbody>\n",
       "</table>\n",
       "<p>5 rows × 202 columns</p>\n",
       "</div>"
      ],
      "text/plain": [
       "            0           1          2          3          4          5  \\\n",
       "0 -378.381226   76.678459  23.239784  13.843393  -5.965930 -34.010609   \n",
       "1 -380.143799  100.597214  15.078894   2.440198 -10.985611 -30.110996   \n",
       "2 -304.669098  118.192703   2.042840  15.504647  -7.542607 -33.852650   \n",
       "3 -308.821411   89.359093  10.470924  28.855902  -3.093584 -32.251301   \n",
       "4 -340.816803   59.974323  12.205260  18.845779  -9.285711 -23.310375   \n",
       "\n",
       "           6          7          8          9  ...       192       193  \\\n",
       "0 -32.301823 -12.570757 -12.027764 -16.687765  ...  0.157032  0.271695   \n",
       "1 -30.983414 -17.078562 -17.298779 -18.734821  ...  0.138701  0.236866   \n",
       "2 -39.650818 -19.708704  -5.323081  -8.056992  ...  0.216409  0.254743   \n",
       "3 -31.907427 -18.246683 -12.992827 -23.487600  ...  0.116543  0.299894   \n",
       "4 -38.347187 -21.094282 -11.288987 -16.105379  ...  0.151425  0.230372   \n",
       "\n",
       "        194       195       196       197       198        199       200  \\\n",
       "0  0.199551  0.092379  0.077370  0.012950  0.070789  16.968049  0.224802   \n",
       "1  0.206389  0.088181  0.075871  0.011050  0.108802  16.039196  0.145663   \n",
       "2  0.280462  0.094490  0.092035  0.007948  0.058204  19.400424  0.093365   \n",
       "3  0.209227  0.093146  0.112789  0.012746  0.069317  19.505548  0.107881   \n",
       "4  0.215532  0.085833  0.078073  0.012030  0.095974  15.334975  0.181497   \n",
       "\n",
       "   label  \n",
       "0      1  \n",
       "1      1  \n",
       "2      1  \n",
       "3      1  \n",
       "4      1  \n",
       "\n",
       "[5 rows x 202 columns]"
      ]
     },
     "execution_count": 16,
     "metadata": {},
     "output_type": "execute_result"
    }
   ],
   "source": [
    "df = pd.read_csv(\"merged_output_features.csv\")\n",
    "df.head()"
   ]
  },
  {
   "cell_type": "code",
   "execution_count": 17,
   "id": "d1df2604",
   "metadata": {},
   "outputs": [],
   "source": [
    "X_train, X_test, y_train, y_test = train_test_split(\n",
    "    df.drop(columns=[\"label\"]),\n",
    "    df[\"label\"],\n",
    "    test_size=0.1,\n",
    "    random_state=42,\n",
    "    stratify=df[\"label\"],\n",
    ")"
   ]
  },
  {
   "cell_type": "code",
   "execution_count": null,
   "id": "e0526bcb",
   "metadata": {},
   "outputs": [],
   "source": [
    "model = XGBClassifier(\n",
    "    n_estimators=200,\n",
    "    learning_rate=0.3,\n",
    "    objective=\"multi:softmax\",\n",
    "    eval_metric=\"mlogloss\",\n",
    "    random_state=42,\n",
    "    n_jobs=-1,\n",
    ")"
   ]
  },
  {
   "cell_type": "code",
   "execution_count": 19,
   "id": "d6be314d",
   "metadata": {},
   "outputs": [],
   "source": [
    "from sklearn.utils.class_weight import compute_sample_weight\n",
    "import numpy as np\n",
    "\n",
    "weights_tr = compute_sample_weight(\"balanced\", y_train)\n",
    "model.fit(X_train, y_train, sample_weight=weights_tr)\n",
    "predictions = model.predict(X_test)"
   ]
  },
  {
   "cell_type": "code",
   "execution_count": 23,
   "id": "b27f08e4",
   "metadata": {},
   "outputs": [
    {
     "name": "stdout",
     "output_type": "stream",
     "text": [
      "Accuracy: 0.8946\n",
      "              precision    recall  f1-score   support\n",
      "\n",
      "           0       0.95      0.93      0.94     11968\n",
      "           1       0.85      0.90      0.88      1934\n",
      "           2       0.66      0.72      0.69      1729\n",
      "           3       0.83      0.85      0.84      1582\n",
      "\n",
      "    accuracy                           0.89     17213\n",
      "   macro avg       0.82      0.85      0.83     17213\n",
      "weighted avg       0.90      0.89      0.90     17213\n",
      "\n"
     ]
    },
    {
     "data": {
      "text/plain": [
       "<Axes: >"
      ]
     },
     "execution_count": 23,
     "metadata": {},
     "output_type": "execute_result"
    },
    {
     "data": {
      "image/png": "[encoded data removed]",
      "text/plain": [
       "<Figure size 640x480 with 2 Axes>"
      ]
     },
     "metadata": {},
     "output_type": "display_data"
    }
   ],
   "source": [
    "import sklearn.metrics as metrics\n",
    "from sklearn.metrics import classification_report, confusion_matrix\n",
    "import matplotlib.pyplot as plt\n",
    "import seaborn as sns\n",
    "\n",
    "accuracy = metrics.accuracy_score(y_test, predictions)\n",
    "print(f\"Accuracy: {accuracy:.4f}\")\n",
    "cm = confusion_matrix(y_test, predictions)\n",
    "print(classification_report(y_test, predictions))\n",
    "sns.heatmap(cm, annot=True, fmt=\"d\", cmap=\"Blues\")"
   ]
  },
  {
   "cell_type": "code",
   "execution_count": 21,
   "id": "5d8a920d",
   "metadata": {},
   "outputs": [],
   "source": [
    "predictions_train = model.predict(X_train)"
   ]
  },
  {
   "cell_type": "code",
   "execution_count": 22,
   "id": "56a1cbab",
   "metadata": {},
   "outputs": [
    {
     "name": "stdout",
     "output_type": "stream",
     "text": [
      "Accuracy: 0.9742\n",
      "              precision    recall  f1-score   support\n",
      "\n",
      "           0       1.00      0.96      0.98    107709\n",
      "           1       0.96      1.00      0.98     17404\n",
      "           2       0.85      1.00      0.92     15562\n",
      "           3       0.96      1.00      0.98     14242\n",
      "\n",
      "    accuracy                           0.97    154917\n",
      "   macro avg       0.94      0.99      0.97    154917\n",
      "weighted avg       0.98      0.97      0.97    154917\n",
      "\n"
     ]
    },
    {
     "data": {
      "text/plain": [
       "<Axes: >"
      ]
     },
     "execution_count": 22,
     "metadata": {},
     "output_type": "execute_result"
    },
    {
     "data": {
      "image/png": "[encoded data removed]",
      "text/plain": [
       "<Figure size 640x480 with 2 Axes>"
      ]
     },
     "metadata": {},
     "output_type": "display_data"
    }
   ],
   "source": [
    "import sklearn.metrics as metrics\n",
    "from sklearn.metrics import classification_report, confusion_matrix\n",
    "import matplotlib.pyplot as plt\n",
    "import seaborn as sns\n",
    "\n",
    "accuracy = metrics.accuracy_score(y_train, predictions_train)\n",
    "print(f\"Accuracy: {accuracy:.4f}\")\n",
    "cm = confusion_matrix(y_train, predictions_train)\n",
    "print(classification_report(y_train, predictions_train))\n",
    "sns.heatmap(cm, annot=True, fmt=\"d\", cmap=\"Blues\")"
   ]
  },
  {
   "cell_type": "code",
   "execution_count": null,
   "id": "7c04b360",
   "metadata": {},
   "outputs": [],
   "source": [
    "import joblib\n",
    "\n",
    "\n",
    "\n",
    "\n",
    "\n",
    "\n",
    "\n",
    "\n",
    "\n",
    "\n",
    "\n",
    "\n",
    "joblib.load(model, \"classifier.pkl\") "
   ]
  }
 ],
 "metadata": {
  "kernelspec": {
   "display_name": "base",
   "language": "python",
   "name": "python3"
  },
  "language_info": {
   "codemirror_mode": {
    "name": "ipython",
    "version": 3
   },
   "file_extension": ".py",
   "mimetype": "text/x-python",
   "name": "python",
   "nbconvert_exporter": "python",
   "pygments_lexer": "ipython3",
   "version": "3.12.7"
  }
 },
 "nbformat": 4,
 "nbformat_minor": 5
}
